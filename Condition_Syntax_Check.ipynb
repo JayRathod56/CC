{
  "nbformat": 4,
  "nbformat_minor": 0,
  "metadata": {
    "colab": {
      "provenance": []
    },
    "kernelspec": {
      "name": "python3",
      "display_name": "Python 3"
    },
    "language_info": {
      "name": "python"
    }
  },
  "cells": [
    {
      "cell_type": "markdown",
      "source": [
        "# Practical 02\n",
        "# Check the validity of Decision making statement"
      ],
      "metadata": {
        "id": "KrREN7XwcKb7"
      }
    },
    {
      "cell_type": "markdown",
      "source": [
        "This program reads the file line by line, and for each line, it checks if the line contains a variable declaration and if it doesn't contain an assignment or initialization. If the line contains a control flow statement and it doesn't contain an opening or closing parenthesis. It prints an error message indicating the line number where the error occurred.\n",
        "\n",
        "This program only checks for a few specific errors and it doesn't cover all possible syntax errors that a C program can have. Also, it's based on regular expressions, so it's not guaranteed to catch all errors, especially if the code is poorly formatted or contains corner cases.\n",
        "\n",
        "It's also worth noting that this program is not a full-fledged syntax analysis tool and should not be used as a replacement for a real compiler, as it doesn't check for semantic issues or generate any kind of output code."
      ],
      "metadata": {
        "id": "_bnaGs4mf8nB"
      }
    },
    {
      "cell_type": "code",
      "source": [
        "import re\n",
        "\n",
        "def check_syntax(file_path):\n",
        "\n",
        "    with open(file_path, 'r') as f:\n",
        "        lines = f.readlines()\n",
        "\n",
        "    for line in lines:\n",
        "\n",
        "\n",
        "# The regular expression r'\\b(int|float|char)\\b' is used to match one of the keywords \"int\", \"float\" or \"char\" in the given line of text. \n",
        "# The \\b word boundary matches the position between a word character (as defined by Unicode) and a non-word character. \n",
        "# This is used to ensure that the matched keyword is not a part of another word.\n",
        "# * The | operator is used to match multiple patterns. In this case, it is used to match the keywords \"int\", \"float\" or \"char\". \n",
        "# * The () operator is used to group the multiple patterns together.\n",
        "# The re.search() function is used to search for the regular expression pattern in the given line. \n",
        "# If the pattern is found, the function returns a match object, otherwise, it returns None. \n",
        "# In this case, if a match object is returned, it means that the line contains one of the keywords \"int\", \"float\" or \"char\".\n",
        "# This regular expression is used to check if a variable is declared in the line and \n",
        "# to check that if it is declared it should be assigned a value or not.\n",
        "        if re.search(r'\\b(int|float|char)\\b', line):\n",
        "\n",
        "\n",
        "  #     This is a regular expression that uses the search() function from the re module to check if a line of text contains a pattern. \n",
        "  #     The pattern is defined as:\n",
        "  #  * one or more characters that are either a lowercase letter, uppercase letter, or underscore ([a-zA-Z_]+) \n",
        "  #  * zero or more whitespace characters (\\s*)\n",
        "  #  * a character that is either an equal sign or a semicolon ([=;])\n",
        "  #     So, this regular expression will return True if the line of text contains a sequence of one or more letters or underscores, possibly followed by whitespace, and then an equal sign or semicolon. Otherwise, it will return False.\n",
        "            if not re.search(r'[a-zA-Z_]+\\s*[=;]', line):\n",
        "                print(f\"Error: Variable declaration without assignment on line {lines.index(line) + 1}\")\n",
        "\n",
        "# This is a regular expression that uses the search() function from the re module to check if a line of text contains a \n",
        "# specific keyword. The pattern is defined as:\n",
        "# * Any character that is not \" (^\")\n",
        "# * A word boundary (\\b)\n",
        "# * A keyword that is either if, else or while ((if|else|while))\n",
        "# * Another word boundary (\\b)\n",
        "# So, this regular expression will return True if the line of text contains a keyword 'if', 'else' or 'while' \n",
        "# which is not enclosed in double quotes, otherwise it will return False.\n",
        "        if re.search(r'[^\"]\\b(if|else|while|switch)\\b', line):\n",
        "\n",
        "        # This is a regular expression that uses the search() function from the re module to check if a line of text contains \n",
        "        # an opening parenthesis. The pattern is defined as:\n",
        "\n",
        "        # * An opening parenthesis character ([(])\n",
        "        # So, this regular expression will return True if the line of text does not contain an opening parenthesis, \n",
        "        # otherwise it will return False.\n",
        "            if not re.search(r'[(]', line):\n",
        "                print(f\"Error: Missing opening parenthesis on line {lines.index(line) + 1}\")\n",
        "\n",
        "        # This is a regular expression that uses the search() function from the re module to check \n",
        "        # if a line of text contains a closing parenthesis. The pattern is defined as:\n",
        "        # * A closing parenthesis character ([)])\n",
        "        # So, this regular expression will return True if the line of text does not contain a closing parenthesis, \n",
        "        # otherwise it will return False.\n",
        "            if not re.search(r'[)]', line):\n",
        "                print(f\"Error: Missing closing parenthesis on line {lines.index(line) + 1}\")\n",
        "\n",
        "    print(\"The Program has a Correct Syntax\")\n",
        "file_path = \"example.c\"\n",
        "check_syntax(file_path)"
      ],
      "metadata": {
        "colab": {
          "base_uri": "https://localhost:8080/"
        },
        "id": "ecnoxMsicLtV",
        "outputId": "c1697f14-61bb-4699-a911-5c75700895ff"
      },
      "execution_count": null,
      "outputs": [
        {
          "output_type": "stream",
          "name": "stdout",
          "text": [
            "The Program has a Correct Syntax\n"
          ]
        }
      ]
    }
  ]
}