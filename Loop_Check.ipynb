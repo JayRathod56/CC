{
  "nbformat": 4,
  "nbformat_minor": 0,
  "metadata": {
    "colab": {
      "provenance": []
    },
    "kernelspec": {
      "name": "python3",
      "display_name": "Python 3"
    },
    "language_info": {
      "name": "python"
    }
  },
  "cells": [
    {
      "cell_type": "markdown",
      "source": [
        "# Checking looping statements"
      ],
      "metadata": {
        "id": "WAjQ_X_Fnpde"
      }
    },
    {
      "cell_type": "markdown",
      "source": [
        "For Loop"
      ],
      "metadata": {
        "id": "MIJf8S6ooc7e"
      }
    },
    {
      "cell_type": "code",
      "execution_count": null,
      "metadata": {
        "id": "c1TPJEC7nktK"
      },
      "outputs": [],
      "source": [
        "test_code = '''\n",
        "\n",
        "// Print numbers from 1 to 10\n",
        "#include <stdio.h>\n",
        "\n",
        "int main() {\n",
        "  int i;\n",
        "\n",
        "  for (i = 1; i < 11; ++i)\n",
        "  {\n",
        "    printf(\"%d \", i);\n",
        "  }\n",
        "  return 0;\n",
        "}\n",
        "\n",
        "'''"
      ]
    },
    {
      "cell_type": "markdown",
      "source": [
        "While Loop"
      ],
      "metadata": {
        "id": "Cw48ImPuofcQ"
      }
    },
    {
      "cell_type": "code",
      "source": [
        "test_code = '''\n",
        "// Print numbers from 1 to 5\n",
        "\n",
        "#include <stdio.h>\n",
        "int main() {\n",
        "  int i = 1;\n",
        "    \n",
        "  while (i <= 5) {\n",
        "    printf(\"%d\\n\", i);\n",
        "    ++i;\n",
        "  }\n",
        "\n",
        "  return 0;\n",
        "}\n",
        "\n",
        "'''"
      ],
      "metadata": {
        "id": "VgDALeIioCNF"
      },
      "execution_count": null,
      "outputs": []
    },
    {
      "cell_type": "markdown",
      "source": [
        "Do while Loop"
      ],
      "metadata": {
        "id": "BRJt9HrXoiUM"
      }
    },
    {
      "cell_type": "code",
      "source": [
        "test_code = '''\n",
        "// Program to add numbers until the user enters zero\n",
        "\n",
        "#include <stdio.h>\n",
        "int main() {\n",
        "  double number, sum = 0;\n",
        "\n",
        "  // the body of the loop is executed at least once\n",
        "  do {\n",
        "    printf(\"Enter a number: \");\n",
        "    scanf(\"%lf\", &number);\n",
        "    sum += number;\n",
        "  }\n",
        "  while(number != 0.0);\n",
        "\n",
        "  printf(\"Sum = %.2lf\",sum);\n",
        "\n",
        "  return 0;\n",
        "}\n",
        "'''"
      ],
      "metadata": {
        "id": "BI5oUfNYoafV"
      },
      "execution_count": null,
      "outputs": []
    },
    {
      "cell_type": "markdown",
      "source": [
        "# Validating"
      ],
      "metadata": {
        "id": "jZEa0R5Fp2es"
      }
    },
    {
      "cell_type": "code",
      "source": [
        "# Imports\n",
        "\n",
        "import re"
      ],
      "metadata": {
        "id": "n2B3fQW8qu34"
      },
      "execution_count": null,
      "outputs": []
    },
    {
      "cell_type": "code",
      "source": [
        "def check_for_loop(c_code: str) -> bool:\n",
        "    # Search for the for loop pattern using regular expressions\n",
        "    for_loop_pattern = re.compile(r'for\\s*\\(\\s*(.*);\\s*(.*);\\s*(.*)\\)\\s*{')\n",
        "    match = for_loop_pattern.search(c_code)\n",
        "    if match:\n",
        "        # Extract the initialization, condition, and increment parts of the for loop\n",
        "        init, cond, inc = match.groups()\n",
        "        # check if the loop is written in correct format\n",
        "        if (init and cond and inc) and (init.strip()!='' and cond.strip()!='' and inc.strip()!=''):\n",
        "            return True\n",
        "    return False\n"
      ],
      "metadata": {
        "id": "rty8lVpqp5Kg"
      },
      "execution_count": null,
      "outputs": []
    },
    {
      "cell_type": "code",
      "source": [
        "def check_while_loop(c_code: str) -> bool:\n",
        "    # Search for the while loop pattern using regular expressions\n",
        "    while_loop_pattern = re.compile(r'while\\s*\\(\\s*(.*)\\s*\\)\\s*{')\n",
        "    match = while_loop_pattern.search(c_code)\n",
        "    if match:\n",
        "        # Extract the condition part of the while loop\n",
        "        cond = match.group(1)\n",
        "        # check if the loop is written in correct format\n",
        "        if cond and cond.strip()!='':\n",
        "            return True\n",
        "    return False"
      ],
      "metadata": {
        "id": "gucpvjWmqdv5"
      },
      "execution_count": null,
      "outputs": []
    },
    {
      "cell_type": "code",
      "source": [
        "def check_do_while_loop(c_code: str) -> bool:\n",
        "    # Search for the do-while loop pattern using regular expressions\n",
        "    do_while_loop_pattern = re.compile(r'do\\s*{.*}.*while\\s*\\((.*)\\);')\n",
        "    match = do_while_loop_pattern.search(c_code)\n",
        "    if match:\n",
        "        # Extract the condition part of the do-while loop\n",
        "        cond = match.group(1)\n",
        "        # check if the loop is written in correct format\n",
        "        if cond and cond.strip()!='':\n",
        "            return True\n",
        "    return False"
      ],
      "metadata": {
        "id": "iX5meEajrCR7"
      },
      "execution_count": null,
      "outputs": []
    },
    {
      "cell_type": "markdown",
      "source": [
        "# Checking which loop statements are present"
      ],
      "metadata": {
        "id": "71qNfnDpreBj"
      }
    },
    {
      "cell_type": "code",
      "source": [
        "def check_loops(c_code: str) -> dict:\n",
        "    loops = {\n",
        "        \"for\": False,\n",
        "        \"while\": False,\n",
        "        \"do-while\": False\n",
        "    }\n",
        "    # Search for the for loop pattern using regular expressions\n",
        "    for_loop_pattern = re.compile(r'for\\s*\\()\\s*{')\n",
        "    match = for_loop_pattern.search(c_code)\n",
        "    if match:\n",
        "        loops[\"for\"] = True\n",
        "    # Search for the while loop pattern using regular expressions\n",
        "    while_loop_pattern = re.compile(r'while\\s*\\(\\s*(.*)\\s*\\)\\s*{')\n",
        "    match = while_loop_pattern.search(c_code)\n",
        "    if match:\n",
        "        loops[\"while\"] = True\n",
        "    # Search for the do-while loop pattern using regular expressions\n",
        "    do_while_loop_pattern = re.compile(r'do\\s*{.*}.*while\\s*\\((.*)\\);')\n",
        "    match = do_while_loop_pattern.search(c_code)\n",
        "    if match:\n",
        "        loops[\"do-while\"] = True\n",
        "    return loops"
      ],
      "metadata": {
        "id": "i7dfW82Lp98u"
      },
      "execution_count": null,
      "outputs": []
    },
    {
      "cell_type": "code",
      "source": [
        "loops = check_loops(test_code)\n",
        "\n",
        "if loops[\"for\"]:\n",
        "    print(\"The C code contains a for loop.\")    \n",
        "    if check_for_loop(test_code):\n",
        "      print(\"The C code contains a valid for loop.\")\n",
        "    else:\n",
        "      print(\"The C code does not contain a valid for loop.\")\n",
        "\n",
        "\n",
        "if loops[\"while\"]:\n",
        "    print(\"The C code contains a while loop.\")\n",
        "    if check_while_loop(test_code):\n",
        "      print(\"The C code contains a valid while loop.\")\n",
        "    else:\n",
        "      print(\"The C code does not contain a valid while loop.\")\n",
        "\n",
        "if loops[\"do-while\"]:\n",
        "    print(\"The C code contains a do-while loop.\")\n",
        "    if check_do_while_loop(test_code):\n",
        "      print(\"The C code contains a valid do-while loop.\")\n",
        "    else:\n",
        "      print(\"The C code does not contain a valid do-while loop.\")"
      ],
      "metadata": {
        "colab": {
          "base_uri": "https://localhost:8080/"
        },
        "id": "nxH113l4sAiA",
        "outputId": "0720af90-10d0-47fd-bdc7-1c880231704c"
      },
      "execution_count": null,
      "outputs": [
        {
          "output_type": "stream",
          "name": "stdout",
          "text": [
            "The C code contains a for loop.\n",
            "The C code contains a valid for loop.\n"
          ]
        }
      ]
    }
  ]
}