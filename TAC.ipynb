{
  "nbformat": 4,
  "nbformat_minor": 0,
  "metadata": {
    "colab": {
      "provenance": []
    },
    "kernelspec": {
      "name": "python3",
      "display_name": "Python 3"
    },
    "language_info": {
      "name": "python"
    }
  },
  "cells": [
    {
      "cell_type": "markdown",
      "source": [
        "# Three Address Code"
      ],
      "metadata": {
        "id": "V1PeenI0Zvc5"
      }
    },
    {
      "cell_type": "code",
      "source": [
        "def is_operand(token):\n",
        "  return token.isalpha() or token == \"=\"\n",
        "\n",
        "def infix_to_postfix(infix):\n",
        "  precedence = {'+':1,\"-\":1,'*':2, '/':2,'^':3,'=':0}\n",
        "  stack = []\n",
        "  postfix = []\n",
        "  for token in infix:\n",
        "    if is_operand(token):\n",
        "      postfix.append(token)\n",
        "    elif token == '(':\n",
        "      stack.append(token)\n",
        "    elif token == ')':\n",
        "      while stack and stack[-1] != '(':\n",
        "        postfix.append(stack.pop())\n",
        "      if not stack:\n",
        "        raise ValueError(\"Invalid infix expression\")\n",
        "      stack.pop()\n",
        "    else:\n",
        "      while stack and stack[-1] != '(' and precedence[token] <= precedence.get(stack[-1], 0):\n",
        "        postfix.append(stack.pop())\n",
        "      stack.append(token)\n",
        "  while stack:\n",
        "    if stack[-1] == '(':\n",
        "      raise ValueError(\"Invalid infix expression\")\n",
        "    postfix.append(stack.pop())\n",
        "  return ''.join(postfix)"
      ],
      "metadata": {
        "id": "m3R_1HNTw9Ub"
      },
      "execution_count": null,
      "outputs": []
    },
    {
      "cell_type": "code",
      "source": [
        "def to_three_address_code(postfix):\n",
        "  stack = []\n",
        "  temp_count = 1\n",
        "  for token in postfix:\n",
        "    if is_operand(token):\n",
        "      stack.append(token)\n",
        "    else:\n",
        "      if len(stack) < 2:\n",
        "        raise ValueError(\"Invalid postfix expression\")\n",
        "      op2 = stack.pop()\n",
        "      op1 = stack.pop()\n",
        "      if token == '=':\n",
        "        print(f\"{op1} = {op2}\")\n",
        "        stack.append(op1)\n",
        "      else:\n",
        "        result = f\"t{temp_count}\"\n",
        "        if token == '+':\n",
        "          print(f\"{result} = {op1} + {op2}\")\n",
        "        elif token == '-':\n",
        "          print(f\"{result} = {op1} - {op2}\")\n",
        "        elif token == '*':\n",
        "          print(f\"{result} = {op1} * {op2}\")\n",
        "        elif token == '/':\n",
        "          print(f\"{result} = {op1} / {op2}\")\n",
        "        elif token == '^':\n",
        "          print(f\"{result} = {op1} ^ {op2}\")\n",
        "        else:\n",
        "          raise ValueError(f\"Invalid operator: {token}\")\n",
        "        stack.append(result)\n",
        "        temp_count += 1\n",
        "  \n",
        "  return stack[0]"
      ],
      "metadata": {
        "id": "Yj3oYEyWzdAS"
      },
      "execution_count": null,
      "outputs": []
    },
    {
      "cell_type": "code",
      "source": [
        "if __name__ == '__main__':\n",
        "  infix = 'b+c*d-(b+c)*f-e'\n",
        "  postfix = infix_to_postfix(infix)\n",
        "  print(f\"Postfix expression: {postfix}\")\n",
        "  to_three_address_code(postfix)"
      ],
      "metadata": {
        "colab": {
          "base_uri": "https://localhost:8080/"
        },
        "id": "p7BNWaof1jS-",
        "outputId": "eed575b3-5ec9-4690-d04b-eef72ca60b5a"
      },
      "execution_count": null,
      "outputs": [
        {
          "output_type": "stream",
          "name": "stdout",
          "text": [
            "Postfix expression: bcd*+bc+f*-e-\n",
            "t1 = c * d\n",
            "t2 = b + t1\n",
            "t3 = b + c\n",
            "t4 = t3 * f\n",
            "t5 = t2 - t4\n",
            "t6 = t5 - e\n"
          ]
        }
      ]
    },
    {
      "cell_type": "markdown",
      "source": [
        "# Triple"
      ],
      "metadata": {
        "id": "dEGJ-wN7pl4n"
      }
    },
    {
      "cell_type": "code",
      "source": [
        "def arith_to_triple(arith_code):\n",
        "    # Initialize the variables\n",
        "    op_stack = []\n",
        "    num_stack = []\n",
        "    triple_list = []\n",
        "\n",
        "    # Loop through the arithmetic code string\n",
        "    for char in arith_code:\n",
        "        if char.isdigit():\n",
        "            # If the character is a digit, add it to the num_stack\n",
        "            num_stack.append(char)\n",
        "        elif char in ['+', '-', '*', '/']:\n",
        "            # If the character is an operator, add it to the op_stack\n",
        "            op_stack.append(char)\n",
        "        elif char == ')':\n",
        "            # If the character is a closing parenthesis, pop an operator and two numbers from the stacks\n",
        "            # and add them as a triple to the triple_list\n",
        "            op = op_stack.pop()\n",
        "            num2 = num_stack.pop()\n",
        "            num1 = num_stack.pop()\n",
        "            triple = (op, num1, num2)\n",
        "            triple_list.append(triple)\n",
        "\n",
        "    return triple_list\n",
        "\n",
        "# Example usage\n",
        "arith_code = \"(5+3)*(10-7)\"\n",
        "triple_list = arith_to_triple(arith_code)\n",
        "print(triple_list) # Output: [('+', '5', '3'), ('-', '10', '7'), ('*', ('+', '5', '3'), ('-', '10', '7'))]"
      ],
      "metadata": {
        "id": "939pOkpEpUnM",
        "colab": {
          "base_uri": "https://localhost:8080/"
        },
        "outputId": "6b614177-547c-418b-848c-8d6cd9552e50"
      },
      "execution_count": null,
      "outputs": [
        {
          "output_type": "stream",
          "name": "stdout",
          "text": [
            "[('+', '5', '3'), ('-', '0', '7')]\n"
          ]
        }
      ]
    },
    {
      "cell_type": "markdown",
      "source": [
        "# Quadraple"
      ],
      "metadata": {
        "id": "HkBdVlkGHdpm"
      }
    },
    {
      "cell_type": "code",
      "source": [
        "def arith_to_quadruple(arith_code):\n",
        "    # Initialize the variables\n",
        "    op_stack = []\n",
        "    num_stack = []\n",
        "    temp_var_count = 0\n",
        "    quadruple_list = []\n",
        "\n",
        "    # Loop through the arithmetic code string\n",
        "    for char in arith_code:\n",
        "        if char.isdigit():\n",
        "            # If the character is a digit, add it to the num_stack\n",
        "            num_stack.append(char)\n",
        "        elif char in ['+', '-', '*', '/']:\n",
        "            # If the character is an operator, add it to the op_stack\n",
        "            op_stack.append(char)\n",
        "        elif char == ')':\n",
        "            # If the character is a closing parenthesis, pop an operator and two numbers from the stacks\n",
        "            # and add a quadruple to the quadruple_list\n",
        "            op = op_stack.pop()\n",
        "            num2 = num_stack.pop()\n",
        "            num1 = num_stack.pop()\n",
        "            temp_var = f\"t{temp_var_count}\"\n",
        "            quadruple_list.append((op, num1, num2, temp_var))\n",
        "            num_stack.append(temp_var)\n",
        "            temp_var_count += 1\n",
        "\n",
        "    return quadruple_list\n",
        "\n",
        "# Example usage\n",
        "arith_code = \"((5+3)*(10-7))\"\n",
        "quadruple_list = arith_to_quadruple(arith_code)\n",
        "print(quadruple_list) # Output: [('+', '5', '3', 't0'), ('-', '10', '7', 't1'), ('*', 't0', 't1', 't2')]"
      ],
      "metadata": {
        "colab": {
          "base_uri": "https://localhost:8080/"
        },
        "id": "FajKMp6WHhNa",
        "outputId": "a1380a89-9866-4968-f307-3c37dae4d766"
      },
      "execution_count": null,
      "outputs": [
        {
          "output_type": "stream",
          "name": "stdout",
          "text": [
            "[('+', '5', '3', 't0'), ('-', '0', '7', 't1'), ('*', '1', 't1', 't2')]\n"
          ]
        }
      ]
    }
  ]
}