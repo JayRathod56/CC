{
  "nbformat": 4,
  "nbformat_minor": 0,
  "metadata": {
    "colab": {
      "provenance": []
    },
    "kernelspec": {
      "name": "python3",
      "display_name": "Python 3"
    },
    "language_info": {
      "name": "python"
    }
  },
  "cells": [
    {
      "cell_type": "code",
      "execution_count": null,
      "metadata": {
        "colab": {
          "base_uri": "https://localhost:8080/"
        },
        "id": "Yaf3q0f2bfdl",
        "outputId": "ca66ad92-3c40-47f4-8077-050f003293e1"
      },
      "outputs": [
        {
          "output_type": "stream",
          "name": "stdout",
          "text": [
            "[('VARIABLE', 'x'), ('VARIABLE', '='), ('CONSTANT', 5), ('OPERATOR', '+'), ('CONSTANT', 3)]\n"
          ]
        }
      ],
      "source": [
        "def tokenize(source_code):\n",
        "    # Split the source code into individual tokens\n",
        "    tokens = source_code.split()\n",
        "    \n",
        "    # Initialize an empty list to store the tokens\n",
        "    token_list = []\n",
        "    \n",
        "    # Iterate through the tokens\n",
        "    for token in tokens:\n",
        "        # If the token is an operator, append it to the list\n",
        "        if token in ['+', '-', '*', '/']:\n",
        "            token_list.append(('OPERATOR', token))\n",
        "        # If the token is a number, append it to the list\n",
        "        elif token.isdigit():\n",
        "            token_list.append(('CONSTANT', int(token)))\n",
        "        # Otherwise, assume it is a variable and append it to the list\n",
        "        else:\n",
        "            token_list.append(('VARIABLE', token))\n",
        "    \n",
        "    # Return the list of tokens\n",
        "    return token_list\n",
        "\n",
        "# Test the tokenize function\n",
        "\n",
        "print(tokenize(\"x = 5 + 3\"))\n",
        "# Output: [('VARIABLE', 'x'), ('OPERATOR', '='), ('NUMBER', 5), ('OPERATOR', '+'), ('NUMBER', 3)]\n"
      ]
    },
    {
      "cell_type": "code",
      "source": [
        "def tokenize():\n",
        "    # Get the source code from the user\n",
        "    source_code = input(\"Enter your source code: \")\n",
        "    \n",
        "    # Split the source code into individual tokens\n",
        "    tokens = source_code.split()\n",
        "    \n",
        "    # Initialize an empty list to store the tokens\n",
        "    token_list = []\n",
        "    \n",
        "    # Iterate through the tokens\n",
        "    i = 0\n",
        "    while i < len(tokens):\n",
        "        # If the token is an operator, append it to the list\n",
        "        if tokens[i] in ['+', '-', '*', '/']:\n",
        "            token_list.append(('OPERATOR', tokens[i]))\n",
        "        # If the token is a number, append it to the list\n",
        "        elif tokens[i].isdigit():\n",
        "            token_list.append(('NUMBER', int(tokens[i])))\n",
        "        # If the token is a float, append it to the list\n",
        "        elif tokens[i] in ['print','if else','switch','def']:\n",
        "            token_list.append(('NUMBER', float(tokens[i])))\n",
        "        # If the token is a string constant, append it to the list\n",
        "        elif tokens[i][0] == '\"' and tokens[i][-1] == '\"':\n",
        "            token_list.append(('CONSTANT', tokens[i][1:-1]))\n",
        "        # If the token is a function call, append it to the list\n",
        "        elif tokens[i] == 'call':\n",
        "            token_list.append(('FUNCTION', tokens[i+1]))\n",
        "            i += 1\n",
        "        # Otherwise, assume it is a variable and append it to the list\n",
        "        else:\n",
        "            token_list.append(('VARIABLE', tokens[i]))\n",
        "        i += 1\n",
        "    \n",
        "    # Return the list of tokens\n",
        "    return token_list\n",
        "\n",
        "# Test the tokenize function\n",
        "tokens = tokenize()\n",
        "\n",
        "# Print out the operators, variables, constants, and function calls\n",
        "for token in tokens:\n",
        "    if token[0] == 'OPERATOR':\n",
        "        print(f\"Operator: {token[1]}\")\n",
        "    elif token[0] == 'VARIABLE':\n",
        "        print(f\"Variable: {token[1]}\")\n",
        "    elif token[0] == 'NUMBER':\n",
        "        print(f\"Constant: {token[1]} (Type: {type(token[1]).__name__})\")\n",
        "    elif token[0] == 'CONSTANT':\n",
        "        print(f\"Constant: {token[1]} (Type: string)\")\n",
        "    elif token[0] == 'FUNCTION':\n",
        "        print(f\"Function call: {token[1]}\")\n"
      ],
      "metadata": {
        "colab": {
          "base_uri": "https://localhost:8080/"
        },
        "id": "egSGwzf5dnvl",
        "outputId": "8b79c194-a08b-44e0-c587-8bc3babbb8d2"
      },
      "execution_count": null,
      "outputs": [
        {
          "output_type": "stream",
          "name": "stdout",
          "text": [
            "Enter your source code: a +  b = 5\n",
            "Variable: a\n",
            "Operator: +\n",
            "Variable: b\n",
            "Variable: =\n",
            "Constant: 5 (Type: int)\n"
          ]
        }
      ]
    },
    {
      "cell_type": "code",
      "source": [
        "import re\n",
        "from pprint import pprint\n",
        "\n",
        "class SymbolTable:\n",
        "    def __init__(self):\n",
        "        self.table = {}\n",
        "\n",
        "    def add_symbol(self, symbol, symbol_type, symbol_scope, data_type, address):\n",
        "        self.table[symbol] = {\n",
        "            'type': symbol_type,\n",
        "            'scope': symbol_scope,\n",
        "            'data_type': data_type,\n",
        "            'address': address\n",
        "        }\n",
        "\n",
        "    def update_symbol(self, symbol, symbol_type, symbol_scope, data_type, address):\n",
        "        self.table[symbol]['type'] = symbol_type\n",
        "        self.table[symbol]['scope'] = symbol_scope\n",
        "        self.table[symbol]['data_type'] = data_type\n",
        "        self.table[symbol]['address'] = address\n",
        "\n",
        "    def get_symbol(self, symbol):\n",
        "        return self.table[symbol]\n",
        "\n",
        "    def symbol_exists(self, symbol):\n",
        "        return symbol in self.table\n",
        "\n",
        "def tokenize(input_string):\n",
        "    # split the input string into tokens\n",
        "    tokens = re.split(r'\\s+', input_string)\n",
        "\n",
        "    symbol_table = SymbolTable()\n",
        "\n",
        "    # go through each token and classify it\n",
        "    i = 0\n",
        "    while i < len(tokens):\n",
        "        token = tokens[i]\n",
        "        if token.isalpha() and token[0].isupper():\n",
        "            # variables are uppercase alphabetical strings\n",
        "            data_type = None\n",
        "            if re.match(r'int\\s+[a-zA-Z]+', input_string[i:]):\n",
        "                data_type = 'int'\n",
        "            elif re.match(r'float\\s+[a-zA-Z]+', input_string[i:]):\n",
        "                data_type = 'float'\n",
        "            elif re.match(r'string\\s+[a-zA-Z]+', input_string[i:]):\n",
        "                data_type = 'string'\n",
        "            symbol_table.add_symbol(token, 'variable', 'global', data_type)\n",
        "        elif token.isalpha() and token[0].islower():\n",
        "            # functions are lowercase alphabetical strings\n",
        "            symbol_table.add_symbol(token, 'function', 'global', 'string')\n",
        "        elif token.isdigit():\n",
        "            # constants are numerical values\n",
        "            symbol_table.add_symbol(token, 'constant', 'global', 'int')\n",
        "        else:\n",
        "            # anything else is an operator\n",
        "            symbol_table.add_symbol(token, 'operator', 'global', 'opr')\n",
        "        i += 1\n",
        "\n",
        "    return symbol_table\n",
        "\n",
        "\n",
        "# get the input string from the user\n",
        "input_string = input('Enter an expression: ')\n",
        "\n",
        "# create the symbol table\n",
        "symbol_table = tokenize(input_string)\n",
        "\n",
        "# print the symbol table\n",
        "print('Symbol Table:')\n",
        "pprint(symbol_table.table)"
      ],
      "metadata": {
        "colab": {
          "base_uri": "https://localhost:8080/"
        },
        "id": "tg0Co0UM4Mzb",
        "outputId": "d80a7447-4c61-4ab6-e234-c413cbb37e61"
      },
      "execution_count": null,
      "outputs": [
        {
          "output_type": "stream",
          "name": "stdout",
          "text": [
            "Enter an expression: a * b = 6\n",
            "Symbol Table:\n",
            "{'*': {'data_type': 'opr', 'scope': 'global', 'type': 'operator'},\n",
            " '6': {'data_type': 'int', 'scope': 'global', 'type': 'constant'},\n",
            " '=': {'data_type': 'opr', 'scope': 'global', 'type': 'operator'},\n",
            " 'a': {'data_type': 'string', 'scope': 'global', 'type': 'function'},\n",
            " 'b': {'data_type': 'string', 'scope': 'global', 'type': 'function'}}\n"
          ]
        }
      ]
    }
  ]
}