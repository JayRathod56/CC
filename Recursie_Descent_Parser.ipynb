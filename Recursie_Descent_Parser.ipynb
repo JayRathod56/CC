{
  "nbformat": 4,
  "nbformat_minor": 0,
  "metadata": {
    "colab": {
      "provenance": []
    },
    "kernelspec": {
      "name": "python3",
      "display_name": "Python 3"
    },
    "language_info": {
      "name": "python"
    }
  },
  "cells": [
    {
      "cell_type": "markdown",
      "source": [
        "# Production Rules\n",
        "\n",
        "## S -> CaD\n",
        "## C -> c / d\n",
        "## D -> p / q"
      ],
      "metadata": {
        "id": "o7sDPgYCqSap"
      }
    },
    {
      "cell_type": "code",
      "execution_count": null,
      "metadata": {
        "colab": {
          "base_uri": "https://localhost:8080/"
        },
        "id": "GYOhH1lYqMC9",
        "outputId": "6b3e8647-3bc8-4943-a0d7-d50f9f08161f"
      },
      "outputs": [
        {
          "name": "stdout",
          "output_type": "stream",
          "text": [
            "Enter String: Cad$$\n"
          ]
        }
      ],
      "source": [
        "inp = input(\"Enter String: \")\n",
        "\n",
        "inp_list = list(inp)"
      ]
    },
    {
      "cell_type": "code",
      "source": [
        "import sys\n",
        "\n",
        "def Error():\n",
        "  print(\"The String is not Accepted\\n\\n\\n\")\n",
        "  sys.exit()\n",
        "\n",
        "def S(x):\n",
        "\n",
        "  for i in range(len(x)):\n",
        "    if (i == 0):\n",
        "      C(inp_list[i])\n",
        "    elif (i == 1):\n",
        "      if (inp_list[i] == \"a\"):\n",
        "        print(\"The middle string is correct\")\n",
        "      else:\n",
        "        Error()\n",
        "        \n",
        "    elif (i == 2):\n",
        "      D(inp_list[i])\n",
        "\n",
        "    elif (i == 3):\n",
        "      if (inp_list[i] == \"$\"):\n",
        "        print(\"There is a $ at the end of the string\")\n",
        "        print(\"String is Accepted\")\n",
        "      else:\n",
        "        Error()\n",
        "      \n",
        "    else:\n",
        "      Error()\n",
        "      \n",
        "\n",
        "def C(x):\n",
        "  if (x == \"c\" or x == \"d\"):\n",
        "    print(\"The starting string is correct\")\n",
        "  else:\n",
        "    Error()\n",
        "\n",
        "def D(x):\n",
        "  if (x == \"p\" or x == \"q\"):\n",
        "    print(\"The ending string is correct\")\n",
        "  else:\n",
        "    Error()\n",
        "\n"
      ],
      "metadata": {
        "id": "ot63AoAZqoFC"
      },
      "execution_count": null,
      "outputs": []
    },
    {
      "cell_type": "code",
      "source": [
        "S(inp_list)"
      ],
      "metadata": {
        "colab": {
          "base_uri": "https://localhost:8080/",
          "height": 184
        },
        "id": "zwdLRKt8rME7",
        "outputId": "b8b81b04-a126-4c93-fa09-703f3b942b4f"
      },
      "execution_count": null,
      "outputs": [
        {
          "output_type": "stream",
          "name": "stdout",
          "text": [
            "The String is not Accepted\n",
            "\n",
            "\n",
            "\n"
          ]
        },
        {
          "output_type": "error",
          "ename": "SystemExit",
          "evalue": "ignored",
          "traceback": [
            "An exception has occurred, use %tb to see the full traceback.\n",
            "\u001b[0;31mSystemExit\u001b[0m\n"
          ]
        }
      ]
    },
    {
      "cell_type": "markdown",
      "source": [
        "# Optimized Code"
      ],
      "metadata": {
        "id": "MR6ILSuD7794"
      }
    },
    {
      "cell_type": "code",
      "source": [
        "class StringNotAcceptedError(Exception):\n",
        "    pass\n",
        "\n",
        "def S(x):\n",
        "    functions = {\n",
        "        0: C,\n",
        "        1: lambda y: None if y == \"a\" else Error(),\n",
        "        2: D,\n",
        "        3: lambda y: None if y == \"$\" else Error()\n",
        "    }\n",
        "    for i, char in enumerate(x):\n",
        "        func = functions.get(i, Error)\n",
        "        func(char)\n",
        "\n",
        "def C(x):\n",
        "    if x not in (\"c\", \"d\"):\n",
        "        raise StringNotAcceptedError(\"The starting string is incorrect\")\n",
        "\n",
        "def D(x):\n",
        "    if x not in (\"p\", \"q\"):\n",
        "        raise StringNotAcceptedError(\"The ending string is incorrect\")\n",
        "\n",
        "def Error():\n",
        "    raise StringNotAcceptedError(\"The string is not accepted\")\n",
        "\n",
        "try:\n",
        "    inp = input(\"Enter String: \")\n",
        "    S(inp)\n",
        "    print(\"String is Accepted\")\n",
        "except StringNotAcceptedError as e:\n",
        "    print(f\"Error: {str(e)}\\n\\n\\n\")\n"
      ],
      "metadata": {
        "colab": {
          "base_uri": "https://localhost:8080/"
        },
        "id": "c6ELiJsX79_e",
        "outputId": "60c42358-396b-4beb-afc4-ee1c9efefded"
      },
      "execution_count": null,
      "outputs": [
        {
          "output_type": "stream",
          "name": "stdout",
          "text": [
            "Enter String: cap\n",
            "String is Accepted\n"
          ]
        }
      ]
    }
  ]
}